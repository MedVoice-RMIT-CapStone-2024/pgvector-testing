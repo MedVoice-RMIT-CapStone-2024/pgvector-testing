{
 "cells": [
  {
   "cell_type": "code",
   "execution_count": 2,
   "metadata": {},
   "outputs": [
    {
     "name": "stdout",
     "output_type": "stream",
     "text": [
      "[Document(metadata={'source': '/home/quan/Desktop/pgvector/sample-data.json', 'seq_num': 1}, page_content=\"[{'patient_name': 'Adam', 'patient_age': 16, 'patient_gender': 'male', 'medical_diagnosis': [{'name': 'fever'}, {'name': 'dizziness'}], 'medical_treatment': [{'name': 'medicines', 'prescription': ''}, {'name': 'orange juices', 'prescription': ''}], 'health_vital': [{'status': 'normal', 'value': '', 'units': ''}]}, {'patient_name': 'Bob', 'patient_age': 16, 'patient_gender': 'male', 'medical_diagnosis': [{'name': 'fever'}, {'name': 'dizziness'}], 'medical_treatment': [{'name': 'medicine', 'prescription': ''}], 'health_vital': [{'status': 'normal', 'value': '', 'units': ''}]}, {'patient_name': 'Craig', 'patient_age': 16, 'patient_gender': '', 'medical_diagnosis': [{'name': 'fever'}, {'name': 'headache'}], 'medical_treatment': [{'name': 'medicine', 'prescription': ''}, {'name': 'full meal per day', 'prescription': ''}], 'health_vital': [{'status': 'normal', 'value': '', 'units': ''}]}, {'patient_name': 'Dave', 'patient_age': 32, 'patient_gender': 'male', 'medical_diagnosis': [{'name': 'fever'}, {'name': 'headache'}], 'medical_treatment': [{'name': 'medicines', 'prescription': ''}, {'name': 'extra meals per day', 'prescription': ''}, {'name': 'nice sleep schedule', 'prescription': ''}], 'health_vital': [{'status': 'normal', 'value': '', 'units': ''}]}, {'patient_name': 'John Doe', 'patient_age': 45, 'patient_gender': '', 'medical_diagnosis': [], 'medical_treatment': [], 'health_vital': [{'status': 'heartbeat rate', 'value': '60', 'units': ''}, {'status': 'blood pressure', 'value': '80/120', 'units': ''}]}]\")]\n"
     ]
    }
   ],
   "source": [
    "from langchain_community.document_loaders import JSONLoader\n",
    "from pprint import pprint\n",
    "loader = JSONLoader(\n",
    "    file_path='./sample-data.json',\n",
    "    jq_schema='.',\n",
    "    text_content=False)\n",
    "\n",
    "data = loader.load()\n",
    "pprint(data)"
   ]
  },
  {
   "cell_type": "code",
   "execution_count": 9,
   "metadata": {},
   "outputs": [],
   "source": [
    "\n",
    "from psycopg2 import connect\n",
    " \n",
    "# declare the connection string specifying\n",
    "# the host name database name\n",
    "# use name and password\n",
    "conn_string = \"host='localhost' \\\n",
    "dbname='patients' user='postgres'\\\n",
    "password='132456' port = '5432' \"\n",
    " \n",
    "# use connect function to establish the connection\n",
    "conn = connect(conn_string)\n"
   ]
  },
  {
   "cell_type": "code",
   "execution_count": 33,
   "metadata": {},
   "outputs": [
    {
     "name": "stdout",
     "output_type": "stream",
     "text": [
      "Table created successfully........\n"
     ]
    }
   ],
   "source": [
    "import psycopg2\n",
    "\n",
    "# Establishing the connection\n",
    "conn = psycopg2.connect(\n",
    "\tdatabase=\"patients\",\n",
    "\tuser='postgres',\n",
    "\tpassword='132456',\n",
    "\thost='localhost',\n",
    "\tport='5432'\n",
    ")\n",
    "\n",
    "# Creating a cursor object using the \n",
    "# cursor() method\n",
    "cursor = conn.cursor()\n",
    "\n",
    "# Doping EMPLOYEE table if already exists.\n",
    "cursor.execute(\"DROP TABLE IF EXISTS patients\")\n",
    "\n",
    "# Creating table as per requirement\n",
    "sql = '''CREATE TABLE patients(\n",
    "                \n",
    "                patient_name VARCHAR  PRIMARY KEY,\n",
    "                patient_age INT NOT NULL,\n",
    "                patient_gender VARCHAR,\n",
    "                medical_diagnosis VARCHAR[],\n",
    "                medical_treatment VARCHAR[],\n",
    "                health_vital VARCHAR[]\n",
    "\n",
    ")'''\n",
    "cursor.execute(sql)\n",
    "print(\"Table created successfully........\")\n",
    "conn.commit()\n",
    "\n",
    "# Closing the connection\n",
    "conn.close()\n"
   ]
  },
  {
   "cell_type": "code",
   "execution_count": 24,
   "metadata": {},
   "outputs": [
    {
     "name": "stdout",
     "output_type": "stream",
     "text": [
      "22\n"
     ]
    }
   ],
   "source": [
    "import random\n",
    "id = random.randint(1, 200)\n",
    "print(id) "
   ]
  },
  {
   "cell_type": "code",
   "execution_count": 36,
   "metadata": {},
   "outputs": [
    {
     "ename": "InvalidTextRepresentation",
     "evalue": "malformed array literal: \"[{\"name\": \"fever\"}, {\"name\": \"dizziness\"}]\"\nLINE 3:     VALUES ('Adam',16,'male','[{\"name\": \"fever\"}, {\"name\": \"...\n                                     ^\nDETAIL:  \"[\" must introduce explicitly-specified array dimensions.\n",
     "output_type": "error",
     "traceback": [
      "\u001b[0;31m---------------------------------------------------------------------------\u001b[0m",
      "\u001b[0;31mInvalidTextRepresentation\u001b[0m                 Traceback (most recent call last)",
      "Cell \u001b[0;32mIn[36], line 23\u001b[0m\n\u001b[1;32m     21\u001b[0m item[\u001b[38;5;124m'\u001b[39m\u001b[38;5;124mmedical_treatment\u001b[39m\u001b[38;5;124m'\u001b[39m] \u001b[38;5;241m=\u001b[39m json\u001b[38;5;241m.\u001b[39mdumps(item[\u001b[38;5;124m'\u001b[39m\u001b[38;5;124mmedical_treatment\u001b[39m\u001b[38;5;124m'\u001b[39m])\n\u001b[1;32m     22\u001b[0m item[\u001b[38;5;124m'\u001b[39m\u001b[38;5;124mhealth_vital\u001b[39m\u001b[38;5;124m'\u001b[39m] \u001b[38;5;241m=\u001b[39m json\u001b[38;5;241m.\u001b[39mdumps(item[\u001b[38;5;124m'\u001b[39m\u001b[38;5;124mhealth_vital\u001b[39m\u001b[38;5;124m'\u001b[39m])\n\u001b[0;32m---> 23\u001b[0m \u001b[43mcursor\u001b[49m\u001b[38;5;241;43m.\u001b[39;49m\u001b[43mexecute\u001b[49m\u001b[43m(\u001b[49m\u001b[43mpostgres_insert_query\u001b[49m\u001b[43m,\u001b[49m\u001b[43m \u001b[49m\u001b[43m(\u001b[49m\n\u001b[1;32m     24\u001b[0m \u001b[43m                \u001b[49m\u001b[43mitem\u001b[49m\u001b[43m[\u001b[49m\u001b[38;5;124;43m'\u001b[39;49m\u001b[38;5;124;43mpatient_name\u001b[39;49m\u001b[38;5;124;43m'\u001b[39;49m\u001b[43m]\u001b[49m\u001b[43m,\u001b[49m\u001b[43m \u001b[49m\n\u001b[1;32m     25\u001b[0m \u001b[43m                \u001b[49m\u001b[43mitem\u001b[49m\u001b[43m[\u001b[49m\u001b[38;5;124;43m'\u001b[39;49m\u001b[38;5;124;43mpatient_age\u001b[39;49m\u001b[38;5;124;43m'\u001b[39;49m\u001b[43m]\u001b[49m\u001b[43m,\u001b[49m\u001b[43m \u001b[49m\n\u001b[1;32m     26\u001b[0m \u001b[43m                \u001b[49m\u001b[43mitem\u001b[49m\u001b[43m[\u001b[49m\u001b[38;5;124;43m'\u001b[39;49m\u001b[38;5;124;43mpatient_gender\u001b[39;49m\u001b[38;5;124;43m'\u001b[39;49m\u001b[43m]\u001b[49m\u001b[43m,\u001b[49m\u001b[43m \u001b[49m\n\u001b[1;32m     27\u001b[0m \u001b[43m                \u001b[49m\u001b[43mitem\u001b[49m\u001b[43m[\u001b[49m\u001b[38;5;124;43m'\u001b[39;49m\u001b[38;5;124;43mmedical_diagnosis\u001b[39;49m\u001b[38;5;124;43m'\u001b[39;49m\u001b[43m]\u001b[49m\u001b[43m,\u001b[49m\u001b[43m \u001b[49m\n\u001b[1;32m     28\u001b[0m \u001b[43m                \u001b[49m\u001b[43mitem\u001b[49m\u001b[43m[\u001b[49m\u001b[38;5;124;43m'\u001b[39;49m\u001b[38;5;124;43mmedical_treatment\u001b[39;49m\u001b[38;5;124;43m'\u001b[39;49m\u001b[43m]\u001b[49m\u001b[43m,\u001b[49m\u001b[43m \u001b[49m\n\u001b[1;32m     29\u001b[0m \u001b[43m                \u001b[49m\u001b[43mitem\u001b[49m\u001b[43m[\u001b[49m\u001b[38;5;124;43m'\u001b[39;49m\u001b[38;5;124;43mhealth_vital\u001b[39;49m\u001b[38;5;124;43m'\u001b[39;49m\u001b[43m]\u001b[49m\n\u001b[1;32m     30\u001b[0m \u001b[43m            \u001b[49m\u001b[43m)\u001b[49m\u001b[43m)\u001b[49m\n\u001b[1;32m     31\u001b[0m conn\u001b[38;5;241m.\u001b[39mcommit()\n\u001b[1;32m     32\u001b[0m count \u001b[38;5;241m=\u001b[39m cursor\u001b[38;5;241m.\u001b[39mrowcount\n",
      "\u001b[0;31mInvalidTextRepresentation\u001b[0m: malformed array literal: \"[{\"name\": \"fever\"}, {\"name\": \"dizziness\"}]\"\nLINE 3:     VALUES ('Adam',16,'male','[{\"name\": \"fever\"}, {\"name\": \"...\n                                     ^\nDETAIL:  \"[\" must introduce explicitly-specified array dimensions.\n"
     ]
    }
   ],
   "source": [
    "import json\n",
    "\n",
    "conn = psycopg2.connect(\n",
    "\tdatabase=\"patients\",\n",
    "\tuser='postgres',\n",
    "\tpassword='132456',\n",
    "\thost='localhost',\n",
    "\tport='5432'\n",
    ")\n",
    "\n",
    "cursor = conn.cursor()\n",
    "\n",
    "postgres_insert_query = \"\"\" INSERT INTO patients(\n",
    "    patient_name, patient_age, patient_gender, medical_diagnosis, medical_treatment, health_vital) \n",
    "    VALUES (%s,%s,%s,%s,%s,%s)\"\"\"\n",
    "\n",
    "with open('sample-data.json') as data_file:    \n",
    "    data = json.load(data_file)\n",
    "    for item in data: \n",
    "        item['medical_diagnosis'] = json.dumps(item['medical_diagnosis'])\n",
    "        item['medical_treatment'] = json.dumps(item['medical_treatment'])\n",
    "        item['health_vital'] = json.dumps(item['health_vital'])\n",
    "        cursor.execute(postgres_insert_query, (\n",
    "                        item['patient_name'], \n",
    "                        item['patient_age'], \n",
    "                        item['patient_gender'], \n",
    "                        item['medical_diagnosis'], \n",
    "                        item['medical_treatment'], \n",
    "                        item['health_vital']\n",
    "                    ))\n",
    "        conn.commit()\n",
    "        count = cursor.rowcount\n",
    "    print(count, \"Record inserted successfully \\\n",
    "    into patients table\")"
   ]
  }
 ],
 "metadata": {
  "kernelspec": {
   "display_name": ".venv",
   "language": "python",
   "name": "python3"
  },
  "language_info": {
   "codemirror_mode": {
    "name": "ipython",
    "version": 3
   },
   "file_extension": ".py",
   "mimetype": "text/x-python",
   "name": "python",
   "nbconvert_exporter": "python",
   "pygments_lexer": "ipython3",
   "version": "3.12.3"
  }
 },
 "nbformat": 4,
 "nbformat_minor": 2
}
